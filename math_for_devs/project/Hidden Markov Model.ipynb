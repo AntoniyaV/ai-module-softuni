{
 "cells": [
  {
   "cell_type": "code",
   "execution_count": 1,
   "metadata": {},
   "outputs": [],
   "source": [
    "%matplotlib inline"
   ]
  },
  {
   "cell_type": "code",
   "execution_count": 2,
   "metadata": {},
   "outputs": [],
   "source": [
    "import numpy as np\n",
    "import pandas as pd\n",
    "import networkx as nx\n",
    "import matplotlib.pyplot as plt\n",
    "import graphviz"
   ]
  },
  {
   "cell_type": "markdown",
   "metadata": {},
   "source": [
    "# Hidden Markov Model\n",
    "## Application in Biological Sequence Analysis"
   ]
  },
  {
   "cell_type": "markdown",
   "metadata": {},
   "source": [
    "### Abstract\n",
    "Nothing beats experimental work when it comes to biological sciences and reliably determining the function or properties of a given biological object - be it a nucleic acid, protein or some other biological molecule. However with the evergrowing body of data that comes with sequencing genomes, the need for quicker and easier evaluation of that data presents itself.\n",
    "\n",
    "For more than seventy years now the branch of biology called computational biology has been dealing with questions regarding the sequence and structure of biological molecules, extending increasingly to the analysis of their function in the 1990s. Developing computational methods that can infer biological information from sequence alone lies in the core of the field. As most of the problems are essentially statistical, many of the most powerful methods for analysis make use of probability theory.\n",
    "\n",
    "Perhaps one of the most widely used probabilistic models in bioinformatics and computational biology is the hidden Markov model. It is most commonly applied to the analysis of DNA sequences - their classification or the detection of specific regions on them.\n",
    "\n",
    "In this project I try to outline the basic definitions that constitute the hidden Markov model, as well as present some of the algorithms based on it that are used in biological sequence analysis. Finally I give some examples on how that would look like and work in Python code."
   ]
  },
  {
   "cell_type": "markdown",
   "metadata": {},
   "source": [
    "### Probabilities and Bayes' theorem\n",
    "Let's consider having a biological sequence and more specifically a DNA sequence. It is a string of finite alphabet of residues which in this case are the four nucleotides A, T, G and C. Now assume that each residue $a$ occurs at random, independant of all the other residues in the sequence, with probability $q_a$. Following the rule of product, if the DNA sequence is denoted as $x_{1}...x_{n}$ the probability of the whole sequence is the product $q_{x_1}q_{x_2}...q_{x_n}=\\prod_{i=1}^{n}q_{x_i}$.\n",
    "\n",
    "\n",
    "#### Maximum likelihood estimation\n",
    "The parameters for a probabilistic model are typically estimated from large sets of trusted examples, often called a _training set_. For example, the probability $q_a$ of a residue $a$ can be estimated as the observed frequency of residues in a database of known DNA sequences. This is called _maximum likelihood estimation_ (MLE). In general, given a model with parameters d and a set of data D, the maximum likelihood estimate for $\\theta$ is that value which maximises $P(D|\\theta)$.\n",
    "\n",
    "A problem when estimating parameters for a model from a limited set of data is that the model becomes very well adapted to the training data but it fails to generalise well to new data. This process is called _overfitting_.\n",
    "\n",
    "\n",
    "#### Conditional, joint and marginal probabilities\n",
    "The probability for an event X to occur, given an event Y, is called _conditional probability_ of X given Y and is denoted as $P(X|Y)$. We can also write is as the probability of observing some data given a probability model, or $P(data|model)$.\n",
    "\n",
    "The probability for an event X to occur together and at the same time with event Y is called _joint probability_ and is denoted as $P(X, Y)=P(X|Y)P(Y)$.\n",
    "\n",
    "If conditional or joint probabilities are known, a _marginal probability_ can be calculated using $P(X)=\\sum\\limits_{Y}P(X, Y)=\\sum\\limits_{Y}P(X|Y)P(Y)$, where the sums are over all possible events Y.\n",
    "\n",
    "\n",
    "#### Bayes' theorem\n",
    "So far we can calculate what is the probability for some data to occur given some model. For example what is the probability to get a six rolling a fair dice. However sometimes what we want to find is the posterior (or inverse) probability - the probability that we have some model given some data that already occured, or $P(model|data)$. Using the dice example again, we want to find what is the probability of having an unfair dice (with 0.5 probability for six) if we got three sixes in a row.\n",
    "\n",
    "The solution to the problem of finding posterior probabilities is the Bayes' theorem:\n",
    "\n",
    "$$ P(X|Y) = \\frac{P(Y|X)P(X)}{P(Y)} $$\n",
    "\n",
    "In order to prevent a model overfitting if there isn't enough data available to reliably estimate parameters, we can use prior knowledge to constrain the estimates. Bayes' theorem can be used to calculate the posterior probability of any particular set of parameters $\\theta$ given some data D. Since the parameters are usually continuous rather than discrete quantities, the theorem looks like this:\n",
    "\n",
    "$$ P(\\theta|D) = \\frac{P(\\theta)P(D|\\theta)}{\\int_{\\theta^\\prime}P(\\theta^\\prime)P(D|\\theta^\\prime)} $$"
   ]
  },
  {
   "cell_type": "markdown",
   "metadata": {},
   "source": [
    "### Hidden Markov model\n",
    "Having gathered some data and being presented with a single biological sequence, we might want to ask \"Does this sequence belong to a particular family?\" or \"Assuming the sequence does come from some family, what can we say about its internal structure?\". In other words, based on a sequence of symbols from some alphabet, we want to find what does the sequence represent. These types of questions can be answered using a very general form of prababilistic model for sequences of symbols, called a hidden Markov model (HMM) as well as the simpler Markov chain.\n",
    "\n",
    "#### Markov chain\n",
    "By definition a Markov chain is a stochastic model describing a sequence of possible events in which the probability of each event depends only on the state attained in the previous event. Graphically it is shown as a collection of states with arrows between them. In the case of DNA there is a state for each of the four nucleotides A, T, G, C and it looks like this:\n",
    "\n",
    "<img src=\"Markov_chain.png\" alt=\"Markov chain\" />\n",
    "\n",
    "A probability parameter, called _transition probability_ $a_{st}$, is associated with each arrow. It determines the probability of a certain residue following another residue, or one state following another state. The transition probability is defined as:\n",
    "\n",
    "$$ a_{st} = P(x_i=t|x_{i-1}=s) $$\n",
    "\n",
    "Key property of a Markov chain is that the probability of each symbol $x_i$ depends only on the value of the preceeding symbol $x_{i-1}$ and not on the entire previous sequence. That way, for any probabalistic model of sequences, the probability of the sequence can be written as:\n",
    "\n",
    "$$ P(x) = P(x_L|x_{L-1})P(x_{L-1}|x_{L-2})...P(x_2|x_1)P(x_1) = P(x_1)\\prod_{i=2}^{L}a_{x_{i-1}x_i} $$\n",
    "\n",
    "In addition to the transition probabilities the probability of starting in a particular state $P(x_1)$ must also be given. Thus we can add an extra begin and end states. Those states can be treated as silent and just serve as start and end points.\n",
    "\n",
    "The entire behaviour of a Markov chain can be described using a transition matrix. The dimension of a transition matrix is the number of states of the Markov chain, and all the elements describe the probability of moving from one state to another (or back to the same state). This means each row of the matrix is a probability vector, and the sum of its entries is 1.\n",
    "\n",
    "#### Hidden Markov model\n",
    "##### Through a biological example\n",
    "To provide a better explanation to the model, I will present a really nice example used by Sean Eddy and published in _Nature Biotechnology_. It makes use of a splice site recognition problem so before moving on, let's have a quick introduction to the used biological terms. Very simply put a DNA sequence consists of two types of regions - coding and noncoding. The coding regions are called exons and the noncoding ones - introns. So in order to have the product, say protein, encoded by a given DNA sequence, the introns are removed. The \"cut here\" label in the sequence lies at the boundary of an exon and intron and is called a splice site.\n",
    "\n",
    "Now let's assume we have a DNA sequence starting with an exon, containing a 5′ splice site and ending with an intron. The problem is to identify when one region switches to the other, or where the splice site is. To do that there must be different probabilites for each of the three types of sequences, meaning that the nucleotide composition of the three is in different proportion. As proposed in the paper, let's say that the exons have a unifrom base compostition on average (25% for each base), the introns are A/T rich (40% for each of the two and 10% for each of the other two bases - G and C), and the splice site is almost always a G (95% for G and 5% for A). This information allows us to draw a hidden Markov model which looks like this:\n",
    "\n",
    "<img src=\"HMM_splice_site.png\" alt=\"Hidden Markov model\" />\n",
    "\n",
    "The model contains three _states_ - one for each of the regions, which can be labeled E (exon), 5 (5′ splice site) and I (intron). Each state has its own _emission probabilities_ (shown above the states) which model the base compostion for the regions. Each state also has _transition probabilities_ (arrows) which are the probabilites of moving from on state to a new one.\n",
    "\n",
    "Every time a state is visited a residue is emitted from the state's emission probability distribution. Then the next state is chosen according to the state's transition probability distribution. This way the model generates two strings of information. The first one is the underlying _state path_ denoted by the labels and the second one is the _observed sequence_ which is the generated DNA sequence. We are given only the observed sequence and so the underlying state path is hidden. More specifically it is a hidden Markov chain, hence the name of the model being _hidden_ Markov model.\n",
    "\n",
    "##### Back to mathematical notations\n",
    "The state sequence, or the state path, is denoted as $\\pi$ and is characterised by parameters:\n",
    "\n",
    "$$ a_{kl} = P(\\pi_i=l|\\pi_{i-1}=k) $$\n",
    "\n",
    "This is the transition probability from state $k$ to state $l$.\n",
    "\n",
    "On the other hand, the emission probability of the symbol $b$ to emit from a state $k$ is defined as:\n",
    "\n",
    "$$ e_k(b) = P(x_i=b|\\pi_i=k) $$\n",
    "\n",
    "Generating an observable sequence with HMM follows the steps described in the biological example. In a more mathematical sense first a state $\\pi_1$ is chosen according to the transition probabilites $a_{0i}$. While in that state, an observation is emitted according to the emission probability $e_{\\pi_1}$ for that state. Afterwards a new state $\\pi_2$ is chosen according to the transition probabilites $a_{{\\pi_1}i}$ and so on. This leads us to the joint probability of an observed sequence $x$ and a state path $\\pi$ which is written as:\n",
    "\n",
    "$$ P(x,\\pi) = a_{0\\pi_1}\\prod_{i=1}^{L}e_{\\pi_i}(x_i)a_{\\pi_{i}\\pi_{i+1}} $$\n",
    "\n",
    "In practice however this equation is not really useful since in general we don't know the hidden state path. It is actually precisely that path that we want to infer. There are potentially many state paths that could generate the same sequence and on some occasions we want to find the one with the highest probability."
   ]
  },
  {
   "cell_type": "markdown",
   "metadata": {},
   "source": [
    "### Dynamic programming algorithms for state path estimation\n",
    "#### The Viterbi algorithm\n",
    "To find out what the observation sequence means by considering the underlying states is called _decoding_. One of the most common approaches to decoding is the Viterbi algorithm which is used to find the most probable state path.\n",
    "\n",
    "If we go back to the biological example from before and look at the DNA sequence we can see that there are 14 possible paths with non-zero probabibility, since there are 14 internal As and Gs which the splice site could be on. On the figure are shown the six most probable paths corresponding to the six Gs in the sequence. So how do we calculate that probability and which one should we choose?\n",
    "\n",
    "The path with the highest probability is denoted as:\n",
    "\n",
    "$$ \\pi^* = \\underset{\\pi}{\\operatorname{argmax}}P(x,\\pi)$$\n",
    "\n",
    "It can be found recursively. If we know the probability $v_k(i)$ of the most probable path ending in state $k$ with observation $i$ for all the states $k$, then these probabilites can be calculated for observation $x_{i+1}$ as:\n",
    "\n",
    "$$ v_l(i+1) = e_l(x_{i+1})\\max_{k}(v_k(i)a_{kl}) $$\n",
    "\n",
    "All sequences have to start in the begin state, or state 0, and so the initional condition is that $v_0(0)=1$.\n",
    "\n",
    "The full Viterbi algorithm looks like this:\n",
    "\n",
    "__Algorithm: Viterbi__\n",
    "\n",
    "Initialisation $(i=0)$:\n",
    "\n",
    "$$ v_0(0)=1, v_k(0) = 0 for k > 0 $$\n",
    "\n",
    "Recursion $(i=1...L)$:\n",
    "\n",
    "$$ v_l(i)=e_l(x_i)\\max_{k}(v_k(i-1)a_{kl})$$\n",
    "$$ ptr_i(l)=\\underset{k}{\\operatorname{argmax}}(v_k(i-1)a_{kl}) $$\n",
    "\n",
    "Termination:\n",
    "\n",
    "$$ P(x,\\pi^*) = \\max_{k}(v_k(L)a_{k0}) $$\n",
    "$$ \\pi_{L}^* = \\underset{k}{\\operatorname{argmax}}(v_k(L)a_{k0}) $$\n",
    "\n",
    "Traceback $(i=L...1)$:\n",
    "\n",
    "$$ \\pi_{i-1}^* = ptr_i(\\pi_i^*) $$\n",
    "\n",
    "The most serious practical problem when using the Viterbi algorithm is that multiplying many probabilities yields very small numbers which leads to an underflow error. To resolve that issue the algorithm should always be done in log space - $\\log(v_l(i))$, which will make the products become sums and the numbers stay reasonable.\n",
    "\n",
    "Going again back to our example we can see the log probabilites of each of the six state paths on their right. The best path has a score of -41.22, which infers that the most likely splice site position is at the fifth G residue.\n",
    "\n",
    "#### The forward algorithm\n",
    "Looking at the scores of the states paths, there is an alternative path which differs very slightly in its log probability value from the highest-scoring one. We have -41.71 for the splice site to be at the sixth G position and -41.22 for it to be at the fifth. How confident are we that the fifth G is the right choice?\n",
    "\n",
    "Many different paths can give rise to the same sequence $x$. Therefore in order to obtain the full probability of $x$ we must add the probabilites for all possible paths:\n",
    "\n",
    "$$ P(x) = \\sum_{\\pi}P(x,\\pi) $$\n",
    "\n",
    "As it turns out, the full probability can be calculated with an algorithm similar to the Viterbi in which the maximisation steps are replaced with sums. It is called the _forward_ algorithm. The quantity corresponding to the Viterbi variable $v_k(i)$ in this algorithm is $f_k(i)$. This is the probability of the observed sequence up to and including $x_i$, requiring that $\\pi_i = k$:\n",
    "\n",
    "$$ f_k(i) = P(x_1...x_i, \\pi_i=k) $$\n",
    "\n",
    "The recursion equation is:\n",
    "\n",
    "$$ f_l(i+1) = e_l(x_{i+1})\\sum_{k}f_k(i)a_{kl} $$\n",
    "\n",
    "The full forward algorithm looks like this:\n",
    "\n",
    "__Algorithm: Forward__\n",
    "\n",
    "Initialisation $(i=0)$:\n",
    "\n",
    "$$ f_0(0)=1, f_k(0) = 0 for k > 0 $$\n",
    "\n",
    "Recursion $(i=1...L)$:\n",
    "\n",
    "$$ f_l(i)=e_l(x_i)\\sum_{k}f_k(i-1)a_{kl}$$\n",
    "\n",
    "Termination:\n",
    "\n",
    "$$ P(x) = \\sum_{k}f_k(L)a_{k0} $$\n",
    "\n",
    "#### The backward algorithm\n",
    "With the Viterbi algorithm we can find the most probable path through the model. However sometimes we might want to know for example what is the most probable state for an observation $x_i$. Or what is the probability that observation $x_i$ came from state $k$ given the observed sequence - $P(\\pi_i=k|x)$. This is the posterior probability of state $k$ at time $i$ when the emitted sequence is known. In order to find this probability, first we have to calculate the probability of producing the entire observed sequence with the $i$th symbol being produced by state $k$:\n",
    "\n",
    "$$ P(x,\\pi_i=k) = P(x_1...x_i, \\pi_i=k)P(x_{i+1}...x_L|\\pi_i=k) $$\n",
    "\n",
    "We already know the first term in the equation - this is the variable $f_k(i)$. The second one is called $b_k(i)$. It is analogous to the forward variable, but it is obtained by a backward recursion starting at the end of the sequence:\n",
    "\n",
    "$$ b_k(i) = P(x_{i+1}...x_L|\\pi_i=k) $$\n",
    "\n",
    "The full backward algorithm looks like this:\n",
    "\n",
    "__Algorithm: Backward__\n",
    "\n",
    "Initialisation $(i=L)$:\n",
    "\n",
    "$$ b_k(L) = a_{k0} for all k $$\n",
    "\n",
    "Recursion $(i=L-1...1)$:\n",
    "\n",
    "$$ b_k(i) = \\sum_{l}a_{kl}e_l(x_{i+1})b_l(i+1) $$\n",
    "\n",
    "Termination:\n",
    "\n",
    "$$ P(x) = \\sum_{l}a_{0l}e_l(x_1)b_l(1) $$\n",
    "\n",
    "The probability of producing the entire observed sequence with the $i$th symbol being produced by state $k$ can now be written as:\n",
    "\n",
    "$$ P(x,\\pi_i=k) = f_k(i)b_k(i) $$\n",
    "\n",
    "From this equation we can obtain the posterior probabilities:\n",
    "\n",
    "$$ P(\\pi_i=k|x) = \\frac{f_k(i)b_k(i)}{P(x)}, $$\n",
    "\n",
    "where $P(x)$ is the result of the forward (or backward) calculation.\n",
    "\n",
    "Visiting one last time our splice site example we can see that by using posterior decoding we can calculate the posibility of having the splice site at a particular position. And so we have a 28% probability for the sixth G position to be correct and 46% for the fifth. That way we can conclude that indeed the fifth position has the biggest probability to be the right one and hence the state path associated with it to be correct."
   ]
  },
  {
   "cell_type": "markdown",
   "metadata": {},
   "source": [
    "### Implementation in Python\n",
    "All we have to do now is see how everything that was outlined so far would look like written in Python. To do that, let's try to recreate the example we already know so well. The following code is adapted from Brian Christopher's [blog post](http://www.blackarbs.com/blog/introduction-hidden-markov-models-python-networkx-sklearn/2/9/2017).\n",
    "\n",
    "First we are going to start with setting our hidden states, which will be \"Exon\" for exon, \"SS\" for 5′ splice site and \"Intron\" for intron. We also want to add their initial probabilities or the probability that any of the three could be the starting state."
   ]
  },
  {
   "cell_type": "code",
   "execution_count": 3,
   "metadata": {},
   "outputs": [],
   "source": [
    "hidden_states = [\"Exon\", \"SS\", \"Intron\"]\n",
    "initial_probabilities = [1.0, 0.0, 0.0]"
   ]
  },
  {
   "cell_type": "markdown",
   "metadata": {},
   "source": [
    "OK, let's see a table of what we have."
   ]
  },
  {
   "cell_type": "code",
   "execution_count": 4,
   "metadata": {},
   "outputs": [
    {
     "data": {
      "text/plain": [
       "Exon      1.0\n",
       "SS        0.0\n",
       "Intron    0.0\n",
       "Name: Hidden states, dtype: float64"
      ]
     },
     "execution_count": 4,
     "metadata": {},
     "output_type": "execute_result"
    }
   ],
   "source": [
    "hidden_state_space = pd.Series(initial_probabilities, index=hidden_states, name=\"Hidden states\")\n",
    "hidden_state_space"
   ]
  },
  {
   "cell_type": "markdown",
   "metadata": {},
   "source": [
    "Now we have to add the transition probabilities or the probability of any state following any other. And again we want to see a table of the result."
   ]
  },
  {
   "cell_type": "code",
   "execution_count": 5,
   "metadata": {},
   "outputs": [
    {
     "data": {
      "text/html": [
       "<div>\n",
       "<style scoped>\n",
       "    .dataframe tbody tr th:only-of-type {\n",
       "        vertical-align: middle;\n",
       "    }\n",
       "\n",
       "    .dataframe tbody tr th {\n",
       "        vertical-align: top;\n",
       "    }\n",
       "\n",
       "    .dataframe thead th {\n",
       "        text-align: right;\n",
       "    }\n",
       "</style>\n",
       "<table border=\"1\" class=\"dataframe\">\n",
       "  <thead>\n",
       "    <tr style=\"text-align: right;\">\n",
       "      <th></th>\n",
       "      <th>Exon</th>\n",
       "      <th>SS</th>\n",
       "      <th>Intron</th>\n",
       "    </tr>\n",
       "  </thead>\n",
       "  <tbody>\n",
       "    <tr>\n",
       "      <th>Exon</th>\n",
       "      <td>0.9</td>\n",
       "      <td>0.1</td>\n",
       "      <td>0</td>\n",
       "    </tr>\n",
       "    <tr>\n",
       "      <th>SS</th>\n",
       "      <td>0</td>\n",
       "      <td>0</td>\n",
       "      <td>1</td>\n",
       "    </tr>\n",
       "    <tr>\n",
       "      <th>Intron</th>\n",
       "      <td>0</td>\n",
       "      <td>0</td>\n",
       "      <td>1</td>\n",
       "    </tr>\n",
       "  </tbody>\n",
       "</table>\n",
       "</div>"
      ],
      "text/plain": [
       "       Exon   SS Intron\n",
       "Exon    0.9  0.1      0\n",
       "SS        0    0      1\n",
       "Intron    0    0      1"
      ]
     },
     "execution_count": 5,
     "metadata": {},
     "output_type": "execute_result"
    }
   ],
   "source": [
    "transition_probabilities_table = pd.DataFrame(columns=hidden_states, index=hidden_states)\n",
    "transition_probabilities_table.loc[hidden_states[0]] = [0.9, 0.1, 0.0]\n",
    "transition_probabilities_table.loc[hidden_states[1]] = [0.0, 0.0, 1.0]\n",
    "transition_probabilities_table.loc[hidden_states[2]] = [0.0, 0.0, 1.0]\n",
    "\n",
    "transition_probabilities_table"
   ]
  },
  {
   "cell_type": "markdown",
   "metadata": {},
   "source": [
    "This is what the transition matrix looks like:"
   ]
  },
  {
   "cell_type": "code",
   "execution_count": 6,
   "metadata": {},
   "outputs": [
    {
     "name": "stdout",
     "output_type": "stream",
     "text": [
      "[[0.9 0.1 0.0]\n",
      " [0.0 0.0 1.0]\n",
      " [0.0 0.0 1.0]]\n"
     ]
    }
   ],
   "source": [
    "transition_matrix = transition_probabilities_table.values\n",
    "print(transition_matrix)"
   ]
  },
  {
   "cell_type": "markdown",
   "metadata": {},
   "source": [
    "Moving on to the observable states. These are the four letters from the DNA alphabet - the bases A, C, G and T. The probability of having any one of them at a given state is called the emission probability, so we will add those as well and see what the values will look like in a table and as an emssion matrix."
   ]
  },
  {
   "cell_type": "code",
   "execution_count": 7,
   "metadata": {},
   "outputs": [],
   "source": [
    "observable_states = [\"A\", \"C\", \"G\", \"T\"]"
   ]
  },
  {
   "cell_type": "code",
   "execution_count": 8,
   "metadata": {},
   "outputs": [
    {
     "data": {
      "text/html": [
       "<div>\n",
       "<style scoped>\n",
       "    .dataframe tbody tr th:only-of-type {\n",
       "        vertical-align: middle;\n",
       "    }\n",
       "\n",
       "    .dataframe tbody tr th {\n",
       "        vertical-align: top;\n",
       "    }\n",
       "\n",
       "    .dataframe thead th {\n",
       "        text-align: right;\n",
       "    }\n",
       "</style>\n",
       "<table border=\"1\" class=\"dataframe\">\n",
       "  <thead>\n",
       "    <tr style=\"text-align: right;\">\n",
       "      <th></th>\n",
       "      <th>A</th>\n",
       "      <th>C</th>\n",
       "      <th>G</th>\n",
       "      <th>T</th>\n",
       "    </tr>\n",
       "  </thead>\n",
       "  <tbody>\n",
       "    <tr>\n",
       "      <th>Exon</th>\n",
       "      <td>0.25</td>\n",
       "      <td>0.25</td>\n",
       "      <td>0.25</td>\n",
       "      <td>0.25</td>\n",
       "    </tr>\n",
       "    <tr>\n",
       "      <th>SS</th>\n",
       "      <td>0.05</td>\n",
       "      <td>0</td>\n",
       "      <td>0.95</td>\n",
       "      <td>0</td>\n",
       "    </tr>\n",
       "    <tr>\n",
       "      <th>Intron</th>\n",
       "      <td>0.4</td>\n",
       "      <td>0.1</td>\n",
       "      <td>0.1</td>\n",
       "      <td>0.4</td>\n",
       "    </tr>\n",
       "  </tbody>\n",
       "</table>\n",
       "</div>"
      ],
      "text/plain": [
       "           A     C     G     T\n",
       "Exon    0.25  0.25  0.25  0.25\n",
       "SS      0.05     0  0.95     0\n",
       "Intron   0.4   0.1   0.1   0.4"
      ]
     },
     "execution_count": 8,
     "metadata": {},
     "output_type": "execute_result"
    }
   ],
   "source": [
    "emission_probabilities_table = pd.DataFrame(columns=observable_states, index=hidden_states)\n",
    "emission_probabilities_table.loc[hidden_states[0]] = [0.25, 0.25, 0.25, 0.25]\n",
    "emission_probabilities_table.loc[hidden_states[1]] = [0.05, 0.00, 0.95, 0.00]\n",
    "emission_probabilities_table.loc[hidden_states[2]] = [0.40, 0.10, 0.10, 0.40]\n",
    "\n",
    "emission_probabilities_table"
   ]
  },
  {
   "cell_type": "code",
   "execution_count": 9,
   "metadata": {},
   "outputs": [
    {
     "name": "stdout",
     "output_type": "stream",
     "text": [
      "[[0.25 0.25 0.25 0.25]\n",
      " [0.05 0.0 0.95 0.0]\n",
      " [0.4 0.1 0.1 0.4]]\n"
     ]
    }
   ],
   "source": [
    "emission_matrix = emission_probabilities_table.values\n",
    "print(emission_matrix)"
   ]
  },
  {
   "cell_type": "markdown",
   "metadata": {},
   "source": [
    "Let's try to visualize the model. We will use the Networkx package to draw a graph with all the states and their transition and emission probabilities. As described by Brian, Networkx creates graphs that consist of nodes and edges. Nodes represent states, edges represent the lines connecting the nodes and have weights, which are the probabilities.\n",
    "\n",
    "First we have to create the edges."
   ]
  },
  {
   "cell_type": "code",
   "execution_count": 10,
   "metadata": {},
   "outputs": [],
   "source": [
    "def get_graph_edges(probabilites_table):\n",
    "    edges = {}\n",
    "    for idx in probabilites_table.index:\n",
    "        for col in probabilites_table.columns:\n",
    "            edges[(idx, col)] = probabilites_table.loc[idx, col]\n",
    "    return edges"
   ]
  },
  {
   "cell_type": "code",
   "execution_count": 11,
   "metadata": {},
   "outputs": [
    {
     "data": {
      "text/plain": [
       "{('Exon', 'Exon'): 0.9,\n",
       " ('Exon', 'SS'): 0.1,\n",
       " ('Exon', 'Intron'): 0.0,\n",
       " ('SS', 'Exon'): 0.0,\n",
       " ('SS', 'SS'): 0.0,\n",
       " ('SS', 'Intron'): 1.0,\n",
       " ('Intron', 'Exon'): 0.0,\n",
       " ('Intron', 'SS'): 0.0,\n",
       " ('Intron', 'Intron'): 1.0}"
      ]
     },
     "execution_count": 11,
     "metadata": {},
     "output_type": "execute_result"
    }
   ],
   "source": [
    "hidden_edges_weights = get_graph_edges(transition_probabilities_table)\n",
    "hidden_edges_weights"
   ]
  },
  {
   "cell_type": "code",
   "execution_count": 12,
   "metadata": {},
   "outputs": [
    {
     "data": {
      "text/plain": [
       "{('Exon', 'A'): 0.25,\n",
       " ('Exon', 'C'): 0.25,\n",
       " ('Exon', 'G'): 0.25,\n",
       " ('Exon', 'T'): 0.25,\n",
       " ('SS', 'A'): 0.05,\n",
       " ('SS', 'C'): 0.0,\n",
       " ('SS', 'G'): 0.95,\n",
       " ('SS', 'T'): 0.0,\n",
       " ('Intron', 'A'): 0.4,\n",
       " ('Intron', 'C'): 0.1,\n",
       " ('Intron', 'G'): 0.1,\n",
       " ('Intron', 'T'): 0.4}"
      ]
     },
     "execution_count": 12,
     "metadata": {},
     "output_type": "execute_result"
    }
   ],
   "source": [
    "observed_edges_weights = get_graph_edges(emission_probabilities_table)\n",
    "observed_edges_weights"
   ]
  },
  {
   "cell_type": "markdown",
   "metadata": {},
   "source": [
    "Now we write a function that creates a graph, adds the nodes and edges to it (`add_edges_in_graph`) and finally draws it (`draw_graph`)."
   ]
  },
  {
   "cell_type": "code",
   "execution_count": 13,
   "metadata": {},
   "outputs": [],
   "source": [
    "def add_edges_in_graph(graph, edges_weights):\n",
    "    for states, p in edges_weights.items():\n",
    "        origin, destination = states[0], states[1]\n",
    "        graph.add_edge(origin, destination, weight=p, label=p)\n",
    "    return graph"
   ]
  },
  {
   "cell_type": "code",
   "execution_count": 14,
   "metadata": {},
   "outputs": [],
   "source": [
    "def draw_graph(hidden_states, hidden_edges, observed_edges):\n",
    "    # Creating a graph object\n",
    "    graph = nx.MultiDiGraph()\n",
    "    \n",
    "    # Setting nodes from the states\n",
    "    graph.add_nodes_from(hidden_states)\n",
    "    # Setting edges with weights from the transition and emission probabilities\n",
    "    graph = add_edges_in_graph(graph, hidden_edges)\n",
    "    graph = add_edges_in_graph(graph, observed_edges)\n",
    "    \n",
    "    # Setting the graph size so it is big and visible\n",
    "    plt.figure(figsize=(12, 12))\n",
    "    \n",
    "    # Setting position and drawing the graph\n",
    "    pos = nx.drawing.nx_pydot.graphviz_layout(graph, prog=\"neato\")\n",
    "    nx.draw_networkx(graph, pos, node_size=1500, node_color=\"red\", arrowsize=15)\n",
    "    \n",
    "    # Adding labels to the graph\n",
    "    edge_labels = {(n1,n2):d['label'] for n1,n2,d in graph.edges(data=True)}\n",
    "    nx.draw_networkx_edge_labels(graph, pos, edge_labels=edge_labels)\n",
    "    \n",
    "    # Creating a dot file for a second visualization\n",
    "    nx.drawing.nx_pydot.write_dot(graph, 'splice_site_markov.dot')"
   ]
  },
  {
   "cell_type": "markdown",
   "metadata": {},
   "source": [
    "Let's see what our graph looks like:"
   ]
  },
  {
   "cell_type": "code",
   "execution_count": 15,
   "metadata": {},
   "outputs": [
    {
     "data": {
      "image/png": "[encoded data removed]",
      "text/plain": [
       "<Figure size 864x864 with 1 Axes>"
      ]
     },
     "metadata": {},
     "output_type": "display_data"
    }
   ],
   "source": [
    "draw_graph(hidden_states, hidden_edges_weights, observed_edges_weights)"
   ]
  },
  {
   "cell_type": "markdown",
   "metadata": {},
   "source": [
    "In the `draw_graph` function we create a dot file in the end. It is supposed to give us a more pleasing outlook of the graph, so let's have a look:"
   ]
  },
  {
   "cell_type": "code",
   "execution_count": 16,
   "metadata": {},
   "outputs": [
    {
     "data": {
      "image/svg+xml": [
       "<?xml version=\"1.0\" encoding=\"UTF-8\" standalone=\"no\"?>\r\n",
       "<!DOCTYPE svg PUBLIC \"-//W3C//DTD SVG 1.1//EN\"\r\n",
       " \"http://www.w3.org/Graphics/SVG/1.1/DTD/svg11.dtd\">\r\n",
       "<!-- Generated by graphviz version 2.38.0 (20140413.2041)\r\n",
       " -->\r\n",
       "<!-- Title: %3 Pages: 1 -->\r\n",
       "<svg width=\"507pt\" height=\"305pt\"\r\n",
       " viewBox=\"0.00 0.00 507.00 305.00\" xmlns=\"http://www.w3.org/2000/svg\" xmlns:xlink=\"http://www.w3.org/1999/xlink\">\r\n",
       "<g id=\"graph0\" class=\"graph\" transform=\"scale(1 1) rotate(0) translate(4 301)\">\r\n",
       "<title>%3</title>\r\n",
       "<polygon fill=\"white\" stroke=\"none\" points=\"-4,4 -4,-301 503,-301 503,4 -4,4\"/>\r\n",
       "<!-- Exon -->\r\n",
       "<g id=\"node1\" class=\"node\"><title>Exon</title>\r\n",
       "<ellipse fill=\"none\" stroke=\"black\" cx=\"60\" cy=\"-279\" rx=\"29.795\" ry=\"18\"/>\r\n",
       "<text text-anchor=\"middle\" x=\"60\" y=\"-275.3\" font-family=\"Times New Roman,serif\" font-size=\"14.00\">Exon</text>\r\n",
       "</g>\r\n",
       "<!-- Exon&#45;&gt;Exon -->\r\n",
       "<g id=\"edge1\" class=\"edge\"><title>Exon&#45;&gt;Exon</title>\r\n",
       "<path fill=\"none\" stroke=\"black\" d=\"M87.0817,-286.806C98.3475,-287.344 107.897,-284.742 107.897,-279 107.897,-275.142 103.586,-272.701 97.3405,-271.679\"/>\r\n",
       "<polygon fill=\"black\" stroke=\"black\" points=\"97.2356,-268.17 87.0817,-271.194 96.9054,-275.162 97.2356,-268.17\"/>\r\n",
       "<text text-anchor=\"middle\" x=\"116.897\" y=\"-275.3\" font-family=\"Times New Roman,serif\" font-size=\"14.00\">0.9</text>\r\n",
       "</g>\r\n",
       "<!-- SS -->\r\n",
       "<g id=\"node2\" class=\"node\"><title>SS</title>\r\n",
       "<ellipse fill=\"none\" stroke=\"black\" cx=\"302\" cy=\"-192\" rx=\"27\" ry=\"18\"/>\r\n",
       "<text text-anchor=\"middle\" x=\"302\" y=\"-188.3\" font-family=\"Times New Roman,serif\" font-size=\"14.00\">SS</text>\r\n",
       "</g>\r\n",
       "<!-- Exon&#45;&gt;SS -->\r\n",
       "<g id=\"edge2\" class=\"edge\"><title>Exon&#45;&gt;SS</title>\r\n",
       "<path fill=\"none\" stroke=\"black\" d=\"M89.1803,-274.88C122.523,-270.606 178.255,-261.282 223,-243 242.218,-235.148 261.951,-222.661 276.889,-212.131\"/>\r\n",
       "<polygon fill=\"black\" stroke=\"black\" points=\"279.033,-214.9 285.09,-206.207 274.934,-209.226 279.033,-214.9\"/>\r\n",
       "<text text-anchor=\"middle\" x=\"259\" y=\"-231.8\" font-family=\"Times New Roman,serif\" font-size=\"14.00\">0.1</text>\r\n",
       "</g>\r\n",
       "<!-- Intron -->\r\n",
       "<g id=\"node3\" class=\"node\"><title>Intron</title>\r\n",
       "<ellipse fill=\"none\" stroke=\"black\" cx=\"302\" cy=\"-105\" rx=\"32.4942\" ry=\"18\"/>\r\n",
       "<text text-anchor=\"middle\" x=\"302\" y=\"-101.3\" font-family=\"Times New Roman,serif\" font-size=\"14.00\">Intron</text>\r\n",
       "</g>\r\n",
       "<!-- Exon&#45;&gt;Intron -->\r\n",
       "<g id=\"edge3\" class=\"edge\"><title>Exon&#45;&gt;Intron</title>\r\n",
       "<path fill=\"none\" stroke=\"black\" d=\"M90.0746,-277.69C170.676,-276.099 387.816,-266.55 423,-210 448.508,-169.002 383.176,-135.617 338.887,-118.486\"/>\r\n",
       "<polygon fill=\"black\" stroke=\"black\" points=\"339.84,-115.106 329.247,-114.882 337.388,-121.662 339.84,-115.106\"/>\r\n",
       "<text text-anchor=\"middle\" x=\"437\" y=\"-188.3\" font-family=\"Times New Roman,serif\" font-size=\"14.00\">0.0</text>\r\n",
       "</g>\r\n",
       "<!-- A -->\r\n",
       "<g id=\"node4\" class=\"node\"><title>A</title>\r\n",
       "<ellipse fill=\"none\" stroke=\"black\" cx=\"27\" cy=\"-18\" rx=\"27\" ry=\"18\"/>\r\n",
       "<text text-anchor=\"middle\" x=\"27\" y=\"-14.3\" font-family=\"Times New Roman,serif\" font-size=\"14.00\">A</text>\r\n",
       "</g>\r\n",
       "<!-- Exon&#45;&gt;A -->\r\n",
       "<g id=\"edge4\" class=\"edge\"><title>Exon&#45;&gt;A</title>\r\n",
       "<path fill=\"none\" stroke=\"black\" d=\"M53.6094,-261.35C45.0831,-238.158 30.4305,-194.622 25,-156 19.6784,-118.153 21.8246,-73.8473 24.1608,-46.0987\"/>\r\n",
       "<polygon fill=\"black\" stroke=\"black\" points=\"27.6611,-46.2541 25.0842,-35.9774 20.6901,-45.6181 27.6611,-46.2541\"/>\r\n",
       "<text text-anchor=\"middle\" x=\"37.5\" y=\"-144.8\" font-family=\"Times New Roman,serif\" font-size=\"14.00\">0.25</text>\r\n",
       "</g>\r\n",
       "<!-- C -->\r\n",
       "<g id=\"node5\" class=\"node\"><title>C</title>\r\n",
       "<ellipse fill=\"none\" stroke=\"black\" cx=\"285\" cy=\"-18\" rx=\"27\" ry=\"18\"/>\r\n",
       "<text text-anchor=\"middle\" x=\"285\" y=\"-14.3\" font-family=\"Times New Roman,serif\" font-size=\"14.00\">C</text>\r\n",
       "</g>\r\n",
       "<!-- Exon&#45;&gt;C -->\r\n",
       "<g id=\"edge5\" class=\"edge\"><title>Exon&#45;&gt;C</title>\r\n",
       "<path fill=\"none\" stroke=\"black\" d=\"M90.0854,-277.719C167.422,-276.594 371.328,-270.983 432,-243 451.123,-234.18 457.796,-229.395 466,-210 488.239,-157.423 469.896,-126.83 429,-87 398.082,-56.8877 351.326,-38.2144 319.544,-28.2264\"/>\r\n",
       "<polygon fill=\"black\" stroke=\"black\" points=\"320.375,-24.8214 309.79,-25.2853 318.354,-31.5234 320.375,-24.8214\"/>\r\n",
       "<text text-anchor=\"middle\" x=\"486.5\" y=\"-144.8\" font-family=\"Times New Roman,serif\" font-size=\"14.00\">0.25</text>\r\n",
       "</g>\r\n",
       "<!-- G -->\r\n",
       "<g id=\"node6\" class=\"node\"><title>G</title>\r\n",
       "<ellipse fill=\"none\" stroke=\"black\" cx=\"100\" cy=\"-18\" rx=\"27\" ry=\"18\"/>\r\n",
       "<text text-anchor=\"middle\" x=\"100\" y=\"-14.3\" font-family=\"Times New Roman,serif\" font-size=\"14.00\">G</text>\r\n",
       "</g>\r\n",
       "<!-- Exon&#45;&gt;G -->\r\n",
       "<g id=\"edge6\" class=\"edge\"><title>Exon&#45;&gt;G</title>\r\n",
       "<path fill=\"none\" stroke=\"black\" d=\"M59.5983,-260.728C58.8059,-220.122 57.7701,-119.567 66,-87 69.8397,-71.8059 77.4316,-56.0781 84.4691,-43.5802\"/>\r\n",
       "<polygon fill=\"black\" stroke=\"black\" points=\"87.6289,-45.111 89.6714,-34.7149 81.5916,-41.5683 87.6289,-45.111\"/>\r\n",
       "<text text-anchor=\"middle\" x=\"73.5\" y=\"-144.8\" font-family=\"Times New Roman,serif\" font-size=\"14.00\">0.25</text>\r\n",
       "</g>\r\n",
       "<!-- T -->\r\n",
       "<g id=\"node7\" class=\"node\"><title>T</title>\r\n",
       "<ellipse fill=\"none\" stroke=\"black\" cx=\"199\" cy=\"-18\" rx=\"27\" ry=\"18\"/>\r\n",
       "<text text-anchor=\"middle\" x=\"199\" y=\"-14.3\" font-family=\"Times New Roman,serif\" font-size=\"14.00\">T</text>\r\n",
       "</g>\r\n",
       "<!-- Exon&#45;&gt;T -->\r\n",
       "<g id=\"edge7\" class=\"edge\"><title>Exon&#45;&gt;T</title>\r\n",
       "<path fill=\"none\" stroke=\"black\" d=\"M89.9673,-278.373C175.38,-278.653 416.097,-273.707 450,-210 457.517,-195.876 453.712,-189.564 450,-174 449.921,-173.671 406.253,-87.225 406,-87 351.182,-38.2378 319.196,-57.3377 249,-36 243.517,-34.3334 237.732,-32.4673 232.117,-30.5984\"/>\r\n",
       "<polygon fill=\"black\" stroke=\"black\" points=\"232.894,-27.1663 222.3,-27.274 230.649,-33.7965 232.894,-27.1663\"/>\r\n",
       "<text text-anchor=\"middle\" x=\"452.5\" y=\"-144.8\" font-family=\"Times New Roman,serif\" font-size=\"14.00\">0.25</text>\r\n",
       "</g>\r\n",
       "<!-- SS&#45;&gt;Exon -->\r\n",
       "<g id=\"edge8\" class=\"edge\"><title>SS&#45;&gt;Exon</title>\r\n",
       "<path fill=\"none\" stroke=\"black\" d=\"M278.311,-201.155C257.832,-208.218 227.444,-218.73 201,-228 164.714,-240.721 123.241,-255.45 94.7165,-265.611\"/>\r\n",
       "<polygon fill=\"black\" stroke=\"black\" points=\"93.4413,-262.35 85.1965,-269.004 95.7912,-268.943 93.4413,-262.35\"/>\r\n",
       "<text text-anchor=\"middle\" x=\"210\" y=\"-231.8\" font-family=\"Times New Roman,serif\" font-size=\"14.00\">0.0</text>\r\n",
       "</g>\r\n",
       "<!-- SS&#45;&gt;SS -->\r\n",
       "<g id=\"edge9\" class=\"edge\"><title>SS&#45;&gt;SS</title>\r\n",
       "<path fill=\"none\" stroke=\"black\" d=\"M326.532,-199.752C337.508,-200.49 347,-197.906 347,-192 347,-188.032 342.715,-185.563 336.574,-184.594\"/>\r\n",
       "<polygon fill=\"black\" stroke=\"black\" points=\"336.647,-181.095 326.532,-184.248 336.406,-188.091 336.647,-181.095\"/>\r\n",
       "<text text-anchor=\"middle\" x=\"356\" y=\"-188.3\" font-family=\"Times New Roman,serif\" font-size=\"14.00\">0.0</text>\r\n",
       "</g>\r\n",
       "<!-- SS&#45;&gt;Intron -->\r\n",
       "<g id=\"edge10\" class=\"edge\"><title>SS&#45;&gt;Intron</title>\r\n",
       "<path fill=\"none\" stroke=\"black\" d=\"M302,-173.799C302,-162.163 302,-146.548 302,-133.237\"/>\r\n",
       "<polygon fill=\"black\" stroke=\"black\" points=\"305.5,-133.175 302,-123.175 298.5,-133.175 305.5,-133.175\"/>\r\n",
       "<text text-anchor=\"middle\" x=\"311\" y=\"-144.8\" font-family=\"Times New Roman,serif\" font-size=\"14.00\">1.0</text>\r\n",
       "</g>\r\n",
       "<!-- SS&#45;&gt;A -->\r\n",
       "<g id=\"edge11\" class=\"edge\"><title>SS&#45;&gt;A</title>\r\n",
       "<path fill=\"none\" stroke=\"black\" d=\"M275.454,-187.778C234.109,-181.597 153.533,-164.77 100,-123 72.7913,-101.77 51.5752,-67.6481 39.1888,-44.3196\"/>\r\n",
       "<polygon fill=\"black\" stroke=\"black\" points=\"42.2644,-42.647 34.5793,-35.3538 36.0389,-45.8476 42.2644,-42.647\"/>\r\n",
       "<text text-anchor=\"middle\" x=\"112.5\" y=\"-101.3\" font-family=\"Times New Roman,serif\" font-size=\"14.00\">0.05</text>\r\n",
       "</g>\r\n",
       "<!-- SS&#45;&gt;C -->\r\n",
       "<g id=\"edge12\" class=\"edge\"><title>SS&#45;&gt;C</title>\r\n",
       "<path fill=\"none\" stroke=\"black\" d=\"M322.475,-179.809C341.136,-168.317 367.488,-148.525 379,-123 385.578,-108.415 386.279,-101.249 379,-87 366.07,-61.6876 338.832,-43.6188 316.989,-32.4992\"/>\r\n",
       "<polygon fill=\"black\" stroke=\"black\" points=\"318.237,-29.2153 307.71,-28.0183 315.193,-35.5188 318.237,-29.2153\"/>\r\n",
       "<text text-anchor=\"middle\" x=\"393\" y=\"-101.3\" font-family=\"Times New Roman,serif\" font-size=\"14.00\">0.0</text>\r\n",
       "</g>\r\n",
       "<!-- SS&#45;&gt;G -->\r\n",
       "<g id=\"edge13\" class=\"edge\"><title>SS&#45;&gt;G</title>\r\n",
       "<path fill=\"none\" stroke=\"black\" d=\"M278.509,-182.836C249.508,-172.041 199.544,-151.058 163,-123 150.382,-113.312 123.807,-82.8612 116,-69 111.957,-61.8219 108.774,-53.4793 106.349,-45.6893\"/>\r\n",
       "<polygon fill=\"black\" stroke=\"black\" points=\"109.673,-44.5836 103.587,-35.9115 102.937,-46.4864 109.673,-44.5836\"/>\r\n",
       "<text text-anchor=\"middle\" x=\"175.5\" y=\"-101.3\" font-family=\"Times New Roman,serif\" font-size=\"14.00\">0.95</text>\r\n",
       "</g>\r\n",
       "<!-- SS&#45;&gt;T -->\r\n",
       "<g id=\"edge14\" class=\"edge\"><title>SS&#45;&gt;T</title>\r\n",
       "<path fill=\"none\" stroke=\"black\" d=\"M283.162,-178.774C255.267,-159.405 204.11,-118.717 184,-69 180.811,-61.1157 181.976,-52.2929 184.731,-44.2791\"/>\r\n",
       "<polygon fill=\"black\" stroke=\"black\" points=\"187.975,-45.5932 188.694,-35.0227 181.54,-42.8377 187.975,-45.5932\"/>\r\n",
       "<text text-anchor=\"middle\" x=\"227\" y=\"-101.3\" font-family=\"Times New Roman,serif\" font-size=\"14.00\">0.0</text>\r\n",
       "</g>\r\n",
       "<!-- Intron&#45;&gt;Exon -->\r\n",
       "<g id=\"edge15\" class=\"edge\"><title>Intron&#45;&gt;Exon</title>\r\n",
       "<path fill=\"none\" stroke=\"black\" d=\"M322.94,-119.273C351.709,-139.178 397.384,-177.858 374,-210 342.073,-253.886 177.249,-270.344 100.018,-275.715\"/>\r\n",
       "<polygon fill=\"black\" stroke=\"black\" points=\"99.4693,-272.243 89.7242,-276.401 99.9348,-279.228 99.4693,-272.243\"/>\r\n",
       "<text text-anchor=\"middle\" x=\"389\" y=\"-188.3\" font-family=\"Times New Roman,serif\" font-size=\"14.00\">0.0</text>\r\n",
       "</g>\r\n",
       "<!-- Intron&#45;&gt;SS -->\r\n",
       "<g id=\"edge16\" class=\"edge\"><title>Intron&#45;&gt;SS</title>\r\n",
       "<path fill=\"none\" stroke=\"black\" d=\"M288.777,-121.805C282.313,-131.445 276.586,-144.153 280,-156 281.109,-159.847 282.779,-163.679 284.713,-167.32\"/>\r\n",
       "<polygon fill=\"black\" stroke=\"black\" points=\"281.721,-169.137 289.895,-175.878 287.709,-165.511 281.721,-169.137\"/>\r\n",
       "<text text-anchor=\"middle\" x=\"289\" y=\"-144.8\" font-family=\"Times New Roman,serif\" font-size=\"14.00\">0.0</text>\r\n",
       "</g>\r\n",
       "<!-- Intron&#45;&gt;Intron -->\r\n",
       "<g id=\"edge17\" class=\"edge\"><title>Intron&#45;&gt;Intron</title>\r\n",
       "<path fill=\"none\" stroke=\"black\" d=\"M331.313,-112.836C342.856,-113.231 352.497,-110.619 352.497,-105 352.497,-101.137 347.94,-98.695 341.341,-97.6745\"/>\r\n",
       "<polygon fill=\"black\" stroke=\"black\" points=\"341.478,-94.177 331.313,-97.1639 341.122,-101.168 341.478,-94.177\"/>\r\n",
       "<text text-anchor=\"middle\" x=\"361.497\" y=\"-101.3\" font-family=\"Times New Roman,serif\" font-size=\"14.00\">1.0</text>\r\n",
       "</g>\r\n",
       "<!-- Intron&#45;&gt;A -->\r\n",
       "<g id=\"edge18\" class=\"edge\"><title>Intron&#45;&gt;A</title>\r\n",
       "<path fill=\"none\" stroke=\"black\" d=\"M273.986,-95.7899C263.926,-92.9138 252.478,-89.7239 242,-87 208.404,-78.2666 199.429,-78.3501 166,-69 120.114,-56.1658 108.391,-53.3096 64,-36 61.913,-35.1862 59.7758,-34.3134 57.6327,-33.4087\"/>\r\n",
       "<polygon fill=\"black\" stroke=\"black\" points=\"58.9006,-30.1428 48.3376,-29.3218 56.083,-36.5508 58.9006,-30.1428\"/>\r\n",
       "<text text-anchor=\"middle\" x=\"175\" y=\"-57.8\" font-family=\"Times New Roman,serif\" font-size=\"14.00\">0.4</text>\r\n",
       "</g>\r\n",
       "<!-- Intron&#45;&gt;C -->\r\n",
       "<g id=\"edge19\" class=\"edge\"><title>Intron&#45;&gt;C</title>\r\n",
       "<path fill=\"none\" stroke=\"black\" d=\"M298.56,-86.799C296.217,-75.086 293.068,-59.3423 290.395,-45.9744\"/>\r\n",
       "<polygon fill=\"black\" stroke=\"black\" points=\"293.77,-45.0047 288.377,-35.8854 286.906,-46.3776 293.77,-45.0047\"/>\r\n",
       "<text text-anchor=\"middle\" x=\"303\" y=\"-57.8\" font-family=\"Times New Roman,serif\" font-size=\"14.00\">0.1</text>\r\n",
       "</g>\r\n",
       "<!-- Intron&#45;&gt;G -->\r\n",
       "<g id=\"edge20\" class=\"edge\"><title>Intron&#45;&gt;G</title>\r\n",
       "<path fill=\"none\" stroke=\"black\" d=\"M276.825,-93.4066C240.088,-77.9479 171.81,-49.2171 131.698,-32.3381\"/>\r\n",
       "<polygon fill=\"black\" stroke=\"black\" points=\"132.958,-29.0713 122.383,-28.4187 130.243,-35.5233 132.958,-29.0713\"/>\r\n",
       "<text text-anchor=\"middle\" x=\"222\" y=\"-57.8\" font-family=\"Times New Roman,serif\" font-size=\"14.00\">0.1</text>\r\n",
       "</g>\r\n",
       "<!-- Intron&#45;&gt;T -->\r\n",
       "<g id=\"edge21\" class=\"edge\"><title>Intron&#45;&gt;T</title>\r\n",
       "<path fill=\"none\" stroke=\"black\" d=\"M284.527,-89.5809C267.729,-75.7178 242.187,-54.6394 223.387,-39.1254\"/>\r\n",
       "<polygon fill=\"black\" stroke=\"black\" points=\"225.475,-36.3104 215.534,-32.6449 221.02,-41.7094 225.475,-36.3104\"/>\r\n",
       "<text text-anchor=\"middle\" x=\"265\" y=\"-57.8\" font-family=\"Times New Roman,serif\" font-size=\"14.00\">0.4</text>\r\n",
       "</g>\r\n",
       "</g>\r\n",
       "</svg>\r\n"
      ],
      "text/plain": [
       "<graphviz.files.Source at 0x208834e3610>"
      ]
     },
     "execution_count": 16,
     "metadata": {},
     "output_type": "execute_result"
    }
   ],
   "source": [
    "with open('splice_site_markov.dot') as f:\n",
    "    dot_graph = f.read()\n",
    "graphviz.Source(dot_graph)"
   ]
  },
  {
   "cell_type": "markdown",
   "metadata": {},
   "source": [
    "With that we have our hidden Markov model set. What's next is generating a sequence of observable states which in our case is a DNA sequence. Here I will use the one shown in the example so that we can easily compare the result - CTTCATGTGAAAGCAGACGTAAGTCA.\n",
    "\n",
    "The question now is what is the underlying states path that led to the generation of that sequence? As we already now there are many possible paths resulting in the same outcome we see. But we want to find the most probable one. For that we can use the Viterbi algorithm.\n",
    "Let's write a function that implements it."
   ]
  },
  {
   "cell_type": "code",
   "execution_count": 17,
   "metadata": {},
   "outputs": [],
   "source": [
    "def viterbi(initial_probabilities, transition_probabilities, emission_probabilities, observed_seq):\n",
    "    # Getting the number of hidden states and the total number of states in the observed sequence\n",
    "    num_states = np.shape(emission_probabilities)[0]\n",
    "    times = np.shape(observed_seq)[0]\n",
    "    \n",
    "    # Initializing blank arrays for the states path, the highest probabilities and argmax\n",
    "    path = np.zeros(times)\n",
    "    delta = np.zeros((num_states, times))\n",
    "    phi = np.zeros((num_states, times))\n",
    "\n",
    "    # Initialization step\n",
    "    delta[:, 0] = initial_probabilities * emission_probabilities[:, observed_seq[0]]\n",
    "    phi[:, 0] = 0\n",
    "\n",
    "    # Recursion step\n",
    "    for t in range(1, times):\n",
    "        for s in range(num_states):\n",
    "            delta[s, t] = np.max(delta[:, t-1] * transition_probabilities[:, s]) * emission_probabilities[s, observed_seq[t]]\n",
    "            phi[s, t] = np.argmax(delta[:, t-1] * transition_probabilities[:, s])\n",
    "\n",
    "    path[times-1] = np.argmax(delta[:, times-1])\n",
    "\n",
    "    # Traceback step\n",
    "    for t in range(times-2, -1, -1):\n",
    "        path[t] = phi[int(path[t+1]), [int(i) for i in [t+1]]]\n",
    "\n",
    "    return path, delta, phi"
   ]
  },
  {
   "cell_type": "markdown",
   "metadata": {},
   "source": [
    "Since we are working with ndarrays we have to convert the observed sequence to integers before passing it as an argument to the function. We will also need to convert the generated from the algorithm path to a string of symbols for each of the hidden states. That's why now we are going to create a simple converting function."
   ]
  },
  {
   "cell_type": "code",
   "execution_count": 18,
   "metadata": {},
   "outputs": [],
   "source": [
    "def convert_states(mapper, states_sequnce):\n",
    "    return [mapper[el] for el in states_sequnce]"
   ]
  },
  {
   "cell_type": "code",
   "execution_count": 19,
   "metadata": {},
   "outputs": [],
   "source": [
    "observed_mapper = {\"A\": 0, \"C\": 1, \"G\": 2, \"T\": 3}\n",
    "hidden_mapper = {0: \"E\", 1: \"5\", 2: \"I\"}"
   ]
  },
  {
   "cell_type": "code",
   "execution_count": 20,
   "metadata": {},
   "outputs": [],
   "source": [
    "observed_sequence = list(\"CTTCATGTGAAAGCAGACGTAAGTCA\")"
   ]
  },
  {
   "cell_type": "code",
   "execution_count": 21,
   "metadata": {},
   "outputs": [
    {
     "data": {
      "text/plain": [
       "[1, 3, 3, 1, 0, 3, 2, 3, 2, 0, 0, 0, 2, 1, 0, 2, 0, 1, 2, 3, 0, 0, 2, 3, 1, 0]"
      ]
     },
     "execution_count": 21,
     "metadata": {},
     "output_type": "execute_result"
    }
   ],
   "source": [
    "observed_sequence_mapped = convert_states(observed_mapper, observed_sequence)\n",
    "observed_sequence_mapped"
   ]
  },
  {
   "cell_type": "code",
   "execution_count": 22,
   "metadata": {},
   "outputs": [],
   "source": [
    "states_path, highest_probabilites, argmax_values = viterbi(initial_probabilities, transition_matrix, emission_matrix, observed_sequence_mapped)"
   ]
  },
  {
   "cell_type": "markdown",
   "metadata": {},
   "source": [
    "We have our most probable states path. Let's convert it to its corresponding symbols and see if it matches the one from the example."
   ]
  },
  {
   "cell_type": "code",
   "execution_count": 23,
   "metadata": {},
   "outputs": [],
   "source": [
    "states_path_mapped = ''.join(convert_states(hidden_mapper, states_path))\n",
    "expected_path = \"EEEEEEEEEEEEEEEEEE5IIIIIII\""
   ]
  },
  {
   "cell_type": "markdown",
   "metadata": {},
   "source": [
    "Moment of truth..."
   ]
  },
  {
   "cell_type": "code",
   "execution_count": 24,
   "metadata": {},
   "outputs": [
    {
     "data": {
      "text/plain": [
       "True"
      ]
     },
     "execution_count": 24,
     "metadata": {},
     "output_type": "execute_result"
    }
   ],
   "source": [
    "states_path_mapped == expected_path"
   ]
  },
  {
   "cell_type": "markdown",
   "metadata": {},
   "source": [
    "We can also see the highest probability for each base to have been emitted from each of the three states:"
   ]
  },
  {
   "cell_type": "code",
   "execution_count": 25,
   "metadata": {},
   "outputs": [
    {
     "data": {
      "text/plain": [
       "array([[2.50000000e-01, 5.62500000e-02, 1.26562500e-02, 2.84765625e-03,\n",
       "        6.40722656e-04, 1.44162598e-04, 3.24365845e-05, 7.29823151e-06,\n",
       "        1.64210209e-06, 3.69472970e-07, 8.31314183e-08, 1.87045691e-08,\n",
       "        4.20852805e-09, 9.46918811e-10, 2.13056732e-10, 4.79377648e-11,\n",
       "        1.07859971e-11, 2.42684934e-12, 5.46041102e-13, 1.22859248e-13,\n",
       "        2.76433308e-14, 6.21974943e-15, 1.39944362e-15, 3.14874815e-16,\n",
       "        7.08468334e-17, 1.59405375e-17],\n",
       "       [0.00000000e+00, 0.00000000e+00, 0.00000000e+00, 0.00000000e+00,\n",
       "        1.42382813e-05, 0.00000000e+00, 1.36954468e-05, 0.00000000e+00,\n",
       "        6.93331993e-07, 8.21051044e-09, 1.84736485e-09, 4.15657091e-10,\n",
       "        1.77693407e-09, 0.00000000e+00, 4.73459406e-12, 2.02403896e-11,\n",
       "        2.39688824e-13, 0.00000000e+00, 2.30550688e-13, 0.00000000e+00,\n",
       "        6.14296240e-16, 1.38216654e-16, 5.90876196e-16, 0.00000000e+00,\n",
       "        0.00000000e+00, 3.54234167e-19],\n",
       "       [0.00000000e+00, 0.00000000e+00, 0.00000000e+00, 0.00000000e+00,\n",
       "        0.00000000e+00, 5.69531250e-06, 5.69531250e-07, 5.47817871e-06,\n",
       "        5.47817871e-07, 2.77332797e-07, 1.10933119e-07, 4.43732476e-08,\n",
       "        4.43732476e-09, 4.43732476e-10, 1.77492990e-10, 1.77492990e-11,\n",
       "        8.09615583e-12, 8.09615583e-13, 8.09615583e-14, 9.22202750e-14,\n",
       "        3.68881100e-14, 1.47552440e-14, 1.47552440e-15, 5.90209760e-16,\n",
       "        5.90209760e-17, 2.36083904e-17]])"
      ]
     },
     "execution_count": 25,
     "metadata": {},
     "output_type": "execute_result"
    }
   ],
   "source": [
    "highest_probabilites"
   ]
  },
  {
   "cell_type": "markdown",
   "metadata": {},
   "source": [
    "And the argmax values by time step for each state:"
   ]
  },
  {
   "cell_type": "code",
   "execution_count": 26,
   "metadata": {},
   "outputs": [
    {
     "data": {
      "text/plain": [
       "array([[0., 0., 0., 0., 0., 0., 0., 0., 0., 0., 0., 0., 0., 0., 0., 0.,\n",
       "        0., 0., 0., 0., 0., 0., 0., 0., 0., 0.],\n",
       "       [0., 0., 0., 0., 0., 0., 0., 0., 0., 0., 0., 0., 0., 0., 0., 0.,\n",
       "        0., 0., 0., 0., 0., 0., 0., 0., 0., 0.],\n",
       "       [0., 0., 0., 0., 0., 1., 2., 1., 2., 1., 2., 2., 2., 2., 2., 2.,\n",
       "        1., 2., 2., 1., 2., 2., 2., 2., 2., 2.]])"
      ]
     },
     "execution_count": 26,
     "metadata": {},
     "output_type": "execute_result"
    }
   ],
   "source": [
    "argmax_values"
   ]
  },
  {
   "cell_type": "markdown",
   "metadata": {},
   "source": [
    "By the looks of it the Viterbi algorithm works correctly with the DNA sequence from the example. Now let's create our own hidden Markov model simulator. Based on the probabilities from earlier, this function will return a DNA sequence as well as a states sequence. In the end we will again test the Viterbi algorithm with the newly generated DNA sequence against the simulated states path. The code for the simulator is adapted from Huw A. Ogilvie from his [article](https://www.cs.rice.edu/~ogilvie/comp571/2018/09/20/hidden-markov-models.html)."
   ]
  },
  {
   "cell_type": "code",
   "execution_count": 27,
   "metadata": {},
   "outputs": [],
   "source": [
    "def hmm_simulator(init_p, trans_p, emis_p):\n",
    "    states_alphabet = 'E5I'\n",
    "    bases_alphabet = 'ACGT'\n",
    "\n",
    "    # The begin state is chosen according to the initial probability\n",
    "    current_state = np.random.choice(3, p=init_p)\n",
    "    # A base is emitted according to the emission probability of the state\n",
    "    base = np.random.choice(4, p=list(emis_p[current_state]))\n",
    "\n",
    "    # The corresponding symbols for the hidden and observed state are set\n",
    "    simulated_states_sequence = states_alphabet[current_state]\n",
    "    simulated_observed_sequence = bases_alphabet[base]\n",
    "\n",
    "    # Generate a random number which represents the size of the generated sequences\n",
    "    length = np.random.randint(20, 100)\n",
    "\n",
    "    # Iterate through the chosen size and generate hidden and observed states\n",
    "    for i in range(length):\n",
    "        current_state = np.random.choice(3, p=list(trans_p[current_state]))\n",
    "        base = np.random.choice(4, p=list(emis_p[current_state]))\n",
    "\n",
    "        simulated_states_sequence += states_alphabet[current_state]\n",
    "        simulated_observed_sequence += bases_alphabet[base]\n",
    "\n",
    "    return simulated_states_sequence, simulated_observed_sequence"
   ]
  },
  {
   "cell_type": "code",
   "execution_count": 28,
   "metadata": {},
   "outputs": [],
   "source": [
    "sim_states_seq, sim_observed_seq = hmm_simulator(initial_probabilities, transition_matrix, emission_matrix)"
   ]
  },
  {
   "cell_type": "code",
   "execution_count": 29,
   "metadata": {},
   "outputs": [],
   "source": [
    "observed_sequence_mapped = convert_states(observed_mapper, sim_observed_seq)"
   ]
  },
  {
   "cell_type": "code",
   "execution_count": 30,
   "metadata": {},
   "outputs": [],
   "source": [
    "states_path, highest_probabilites, argmax_values = viterbi(initial_probabilities, transition_matrix, emission_matrix, observed_sequence_mapped)"
   ]
  },
  {
   "cell_type": "code",
   "execution_count": 31,
   "metadata": {},
   "outputs": [],
   "source": [
    "states_path_mapped = ''.join(convert_states(hidden_mapper, states_path))"
   ]
  },
  {
   "cell_type": "code",
   "execution_count": 32,
   "metadata": {},
   "outputs": [
    {
     "name": "stdout",
     "output_type": "stream",
     "text": [
      "Viterbi most probable path: EEEEE5IIIIIIIIIIIIIIIIIIIIIIIIIIIIIIIIIIIIIIIIIIIIIIIIIIIIIIIIIIIIIIIIIIIIIIIIIIIIIII\n",
      "HMM simulated states path:  EEEEE5IIIIIIIIIIIIIIIIIIIIIIIIIIIIIIIIIIIIIIIIIIIIIIIIIIIIIIIIIIIIIIIIIIIIIIIIIIIIIII\n"
     ]
    }
   ],
   "source": [
    "print(f\"Viterbi most probable path: {states_path_mapped}\")\n",
    "print(f\"HMM simulated states path:  {sim_states_seq}\")"
   ]
  },
  {
   "cell_type": "code",
   "execution_count": 33,
   "metadata": {},
   "outputs": [
    {
     "data": {
      "text/plain": [
       "True"
      ]
     },
     "execution_count": 33,
     "metadata": {},
     "output_type": "execute_result"
    }
   ],
   "source": [
    "states_path_mapped == sim_states_seq"
   ]
  },
  {
   "cell_type": "markdown",
   "metadata": {},
   "source": [
    "We saw that if we have already obtained the initial, transition and emission probabilities of the hidden and observed states, we can create a hidden Markov model that can generate observed sequences in that fashion. Based on such model, if we have a DNA sequence, we can find the most probable states path that emitted the sequence using the Viterbi algorithm."
   ]
  },
  {
   "cell_type": "markdown",
   "metadata": {},
   "source": [
    "### Conclusion\n",
    "The advancement and availability in DNA sequence technologies in the past years have led to an enourmous amount of sequence data being gathered. The information that can be extraceted from those genomes can help better understand the different biological functions of molecules, cells and organisms. However to analyze all the available data would be nearly impossible without the help of computational methods.\n",
    "\n",
    "\n",
    "In this project I tried to outline the basic concepts behind one such probabilistic model used widely in computational biology. That is the hidden Markov model which acts as a powerful tool in the heart of biological sequence analysis. There are many variations of the model and other models based on it that are used in different programs for gene finding, profile searches, multiple sequence alignment, regulatory site identification and many others. All those models provide a sound mathematical framework for modeling and analyzing biological sequences."
   ]
  },
  {
   "cell_type": "markdown",
   "metadata": {},
   "source": [
    "### References\n",
    "1. Searls, David B.. _\"Computational biology\"_. Encyclopedia Britannica, 16 Nov. 2018, https://www.britannica.com/science/computational-biology. Accessed 27 May 2021.\n",
    "2. Durbin R, Eddy S, Krogh A, Mitchison G. _Biological Sequence Analysis_. Cambridge, UK: Cambridge University Press; 1998. (free [pdf](http://www.mcb111.org/w06/durbin_book.pdf))\n",
    "3. Eddy, S. _What is Bayesian statistics?_. Nat Biotechnol 22, 1177–1178 (2004). https://doi.org/10.1038/nbt0904-1177\n",
    "4. Henry Maltby, Worranat Pakornrat, Jeremy Jackson,Adrian Hernandez, Christopher Williams, Calvin Lin, Jimin Khim, _Markov chains_, https://brilliant.org/wiki/markov-chains/\n",
    "5. Eddy, S. _What is a hidden Markov model?_. Nat Biotechnol 22, 1315–1316 (2004). https://doi.org/10.1038/nbt1004-1315\n",
    "6. Yoon BJ. _Hidden Markov Models and their Applications in Biological Sequence Analysis_. Curr Genomics. 2009;10(6):402-415. doi:10.2174/138920209789177575\n",
    "7. Mattia Cinelli, _Hidden Markov Model for Biological Sequence_, https://towardsdatascience.com/hidden-markov-model-applied-to-biological-sequence-373d2b5a24c\n",
    "8. Brian Christopher, _Introduction to Hidden Markov Models with Python Networkx and Sklearn_, http://www.blackarbs.com/blog/introduction-hidden-markov-models-python-networkx-sklearn/2/9/2017\n",
    "9. Huw A. Ogilvie, _Hidden Markov models_, https://www.cs.rice.edu/~ogilvie/comp571/2018/09/20/hidden-markov-models.html"
   ]
  }
 ],
 "metadata": {
  "kernelspec": {
   "display_name": "Python 3",
   "language": "python",
   "name": "python3"
  },
  "language_info": {
   "codemirror_mode": {
    "name": "ipython",
    "version": 3
   },
   "file_extension": ".py",
   "mimetype": "text/x-python",
   "name": "python",
   "nbconvert_exporter": "python",
   "pygments_lexer": "ipython3",
   "version": "3.8.5"
  }
 },
 "nbformat": 4,
 "nbformat_minor": 4
}
